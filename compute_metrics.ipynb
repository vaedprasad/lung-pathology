{
  "nbformat": 4,
  "nbformat_minor": 0,
  "metadata": {
    "colab": {
      "provenance": [],
      "machine_shape": "hm"
    },
    "kernelspec": {
      "name": "python3",
      "display_name": "Python 3"
    },
    "language_info": {
      "name": "python"
    }
  },
  "cells": [
    {
      "cell_type": "code",
      "metadata": {
        "colab": {
          "base_uri": "https://localhost:8080/"
        },
        "id": "K8JGVO1dHsTW",
        "outputId": "c2951b5f-94b1-4d74-d644-08c534090d76"
      },
      "source": [
        "!pip install pytorch-msssim"
      ],
      "execution_count": null,
      "outputs": [
        {
          "output_type": "stream",
          "text": [
            "Collecting pytorch-msssim\n",
            "  Downloading https://files.pythonhosted.org/packages/9d/d3/3cb0f397232cf79e1762323c3a8862e39ad53eca0bb5f6be9ccc8e7c070e/pytorch_msssim-0.2.1-py3-none-any.whl\n",
            "Requirement already satisfied: torch in /usr/local/lib/python3.7/dist-packages (from pytorch-msssim) (1.8.1+cu101)\n",
            "Requirement already satisfied: typing-extensions in /usr/local/lib/python3.7/dist-packages (from torch->pytorch-msssim) (3.7.4.3)\n",
            "Requirement already satisfied: numpy in /usr/local/lib/python3.7/dist-packages (from torch->pytorch-msssim) (1.19.5)\n",
            "Installing collected packages: pytorch-msssim\n",
            "Successfully installed pytorch-msssim-0.2.1\n"
          ],
          "name": "stdout"
        }
      ]
    },
    {
      "cell_type": "code",
      "metadata": {
        "id": "LSOL67BbenWX"
      },
      "source": [
        "import torch\n",
        "from torch import nn, tensor\n",
        "from torch.distributions.categorical import Categorical\n",
        "from torch.nn import functional as F\n",
        "from torch.utils.data import DataLoader, Dataset, random_split, TensorDataset\n",
        "from torchvision import transforms\n",
        "import math\n",
        "import matplotlib.pyplot as plt\n",
        "import cv2\n",
        "from skimage.measure import compare_ssim\n",
        "import numpy as np\n",
        "from pytorch_msssim import ssim, ms_ssim, SSIM, MS_SSIM"
      ],
      "execution_count": null,
      "outputs": []
    },
    {
      "cell_type": "code",
      "metadata": {
        "colab": {
          "base_uri": "https://localhost:8080/"
        },
        "id": "gJ6Stql-fA1q",
        "outputId": "6da2afcf-d12f-4d74-fd1a-69515f4f209b"
      },
      "source": [
        "from google.colab import drive\n",
        "drive.mount(\"/content/drive\")"
      ],
      "execution_count": null,
      "outputs": [
        {
          "output_type": "stream",
          "text": [
            "Mounted at /content/drive\n"
          ],
          "name": "stdout"
        }
      ]
    },
    {
      "cell_type": "code",
      "metadata": {
        "id": "2uEzhO6vf8NE"
      },
      "source": [
        "drive_path = \"/content/drive/MyDrive\"\n",
        "train_dataset = TensorDataset(\n",
        "    torch.load(f\"{drive_path}/imc-prediction/tensors/inputs.pt\"),\n",
        "    torch.load(f\"{drive_path}/imc-prediction/tensors/collagen_targets.pt\"))"
      ],
      "execution_count": null,
      "outputs": []
    },
    {
      "cell_type": "code",
      "metadata": {
        "id": "n3K1SbNUf_ym"
      },
      "source": [
        "img1, img2 = next(iter(train_dataset))"
      ],
      "execution_count": null,
      "outputs": []
    },
    {
      "cell_type": "markdown",
      "metadata": {
        "id": "NCBKQQa6H9DS"
      },
      "source": [
        "Test SSMI loss"
      ]
    },
    {
      "cell_type": "code",
      "metadata": {
        "colab": {
          "base_uri": "https://localhost:8080/"
        },
        "id": "b4vZDRbVH8dd",
        "outputId": "4824d71e-8b5d-4ac1-b666-855c648e143a"
      },
      "source": [
        "from torch.autograd import Variable\n",
        "img1 = Variable( img1,  requires_grad=False)\n",
        "img2 = Variable( img2,  requires_grad=True)\n",
        "ssim_value = ssim(img1.unsqueeze(0), img2.unsqueeze(0)).item()\n",
        "print(\"Initial ssim:\", ssim_value)\n",
        "\n",
        "ssim_loss = SSIM(win_size=11, win_sigma=1.5, data_range=1, size_average=True, channel=1)\n",
        "\n",
        "optimizer = torch.optim.Adam([img2], lr=0.01)\n",
        "i = 0\n",
        "while i < 10:\n",
        "    optimizer.zero_grad()\n",
        "    _ssim_loss = 1-ssim_loss(img1.unsqueeze(0), img2.unsqueeze(0))\n",
        "    _ssim_loss.backward()\n",
        "    optimizer.step()\n",
        "\n",
        "    ssim_value = ssim(img1.unsqueeze(0), img2.unsqueeze(0)).item()\n",
        "    print(ssim_value)\n",
        "    i += 1"
      ],
      "execution_count": null,
      "outputs": [
        {
          "output_type": "stream",
          "text": [
            "Initial ssim: 0.7615805864334106\n",
            "0.7662784457206726\n",
            "0.7903226613998413\n",
            "0.8022977709770203\n",
            "0.8115919232368469\n",
            "0.8250197768211365\n",
            "0.8385151028633118\n",
            "0.8488903045654297\n",
            "0.8571313619613647\n",
            "0.8658400177955627\n",
            "0.8753970861434937\n"
          ],
          "name": "stdout"
        }
      ]
    },
    {
      "cell_type": "markdown",
      "metadata": {
        "id": "4DHH6A8whE1U"
      },
      "source": [
        "Peak signal-to-noise ratio"
      ]
    },
    {
      "cell_type": "code",
      "metadata": {
        "id": "TJiBfUyMfIBr"
      },
      "source": [
        "def compute_psnr(img1, img2):\n",
        "  mse = torch.mean(torch.square(img1 - img2))\n",
        "  return 10 * math.log10(1. / mse)"
      ],
      "execution_count": null,
      "outputs": []
    },
    {
      "cell_type": "code",
      "metadata": {
        "colab": {
          "base_uri": "https://localhost:8080/"
        },
        "id": "8BGd8Gh2f5NQ",
        "outputId": "59024f26-5f33-4e1d-a07a-f547415c0aac"
      },
      "source": [
        "compute_psnr(data, label)"
      ],
      "execution_count": null,
      "outputs": [
        {
          "output_type": "execute_result",
          "data": {
            "text/plain": [
              "12.906139854625646"
            ]
          },
          "metadata": {
            "tags": []
          },
          "execution_count": 19
        }
      ]
    },
    {
      "cell_type": "markdown",
      "metadata": {
        "id": "-rR_OMK7hIeL"
      },
      "source": [
        "Frechet Inception distance"
      ]
    },
    {
      "cell_type": "code",
      "metadata": {
        "id": "v6t6HItugFnP"
      },
      "source": [
        "import scipy\n",
        "def frechet(img1, img2):\n",
        "  img1 = np.array(img1.squeeze())\n",
        "  img2 = np.array(img2.squeeze())\n",
        "  mu1, sigma1 = img1.mean(axis=0), np.cov(img1, rowvar=False)\n",
        "  mu2, sigma2 = img2.mean(axis=0), np.cov(img2, rowvar=False)\n",
        "  ssdiff = np.sum((mu1 - mu2)**2.0)\n",
        "  covmean = scipy.linalg.sqrtm(sigma1.dot(sigma2))\n",
        "  if np.iscomplexobj(covmean):\n",
        "    covmean = covmean.real\n",
        "  fid = ssdiff + np.trace(sigma1 + sigma2 - 2.0 * covmean)\n",
        "  return fid"
      ],
      "execution_count": null,
      "outputs": []
    },
    {
      "cell_type": "code",
      "metadata": {
        "colab": {
          "base_uri": "https://localhost:8080/"
        },
        "id": "kG_o3v62iV4z",
        "outputId": "693b64d1-693d-476d-f4b9-138a2c7b9010"
      },
      "source": [
        "frechet(data, label)"
      ],
      "execution_count": null,
      "outputs": [
        {
          "output_type": "execute_result",
          "data": {
            "text/plain": [
              "9.896095821643893"
            ]
          },
          "metadata": {
            "tags": []
          },
          "execution_count": 46
        }
      ]
    }
  ]
}